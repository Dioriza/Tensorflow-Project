{
  "nbformat": 4,
  "nbformat_minor": 0,
  "metadata": {
    "kernelspec": {
      "language": "python",
      "display_name": "Python 3",
      "name": "python3"
    },
    "language_info": {
      "pygments_lexer": "ipython3",
      "nbconvert_exporter": "python",
      "version": "3.6.4",
      "file_extension": ".py",
      "codemirror_mode": {
        "name": "ipython",
        "version": 3
      },
      "name": "python",
      "mimetype": "text/x-python"
    },
    "colab": {
      "name": "Time_Series_Prediction_Submission.ipynb",
      "provenance": [],
      "collapsed_sections": [],
      "toc_visible": true,
      "include_colab_link": true
    },
    "accelerator": "GPU"
  },
  "cells": [
    {
      "cell_type": "markdown",
      "metadata": {
        "id": "view-in-github",
        "colab_type": "text"
      },
      "source": [
        "<a href=\"https://colab.research.google.com/github/Dioriza/Tensorflow-Project/blob/master/Time_Series_Prediction_Submission.ipynb\" target=\"_parent\"><img src=\"https://colab.research.google.com/assets/colab-badge.svg\" alt=\"Open In Colab\"/></a>"
      ]
    },
    {
      "cell_type": "markdown",
      "metadata": {
        "id": "9nIsRFOAoT7r"
      },
      "source": [
        "# Import Packages"
      ]
    },
    {
      "cell_type": "code",
      "metadata": {
        "trusted": true,
        "id": "T4KPLr9mL9ai",
        "outputId": "175e7a3d-fcb0-4953-bcb7-1e539c17ba5c",
        "colab": {
          "base_uri": "https://localhost:8080/",
          "height": 71
        }
      },
      "source": [
        "import numpy as np\n",
        "import tensorflow as tf\n",
        "import pandas as pd\n",
        "import matplotlib.pyplot as plt\n",
        "import seaborn as sns\n",
        "import zipfile\n",
        "\n",
        "\n",
        "from tensorflow.keras.models import Sequential\n",
        "from tensorflow.keras.layers import LSTM,Dense,Dropout,Bidirectional\n",
        "\n",
        "\n",
        "%matplotlib inline\n",
        "sns.set(style='whitegrid', palette='muted')"
      ],
      "execution_count": null,
      "outputs": [
        {
          "output_type": "stream",
          "text": [
            "/usr/local/lib/python3.6/dist-packages/statsmodels/tools/_testing.py:19: FutureWarning: pandas.util.testing is deprecated. Use the functions in the public API at pandas.testing instead.\n",
            "  import pandas.util.testing as tm\n"
          ],
          "name": "stderr"
        }
      ]
    },
    {
      "cell_type": "markdown",
      "metadata": {
        "id": "ylYc3a4HoaK0"
      },
      "source": [
        "# Get Data"
      ]
    },
    {
      "cell_type": "code",
      "metadata": {
        "id": "lA3stVBUNaqj",
        "outputId": "9da179f1-aed7-4926-95a0-c0d9c3ba4965",
        "colab": {
          "resources": {
            "http://localhost:8080/nbextensions/google.colab/files.js": {
              "data": "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",
              "ok": true,
              "headers": [
                [
                  "content-type",
                  "application/javascript"
                ]
              ],
              "status": 200,
              "status_text": ""
            }
          },
          "base_uri": "https://localhost:8080/",
          "height": 89
        }
      },
      "source": [
        "from google.colab import files\n",
        "files.upload()"
      ],
      "execution_count": null,
      "outputs": [
        {
          "output_type": "display_data",
          "data": {
            "text/html": [
              "\n",
              "     <input type=\"file\" id=\"files-9608c425-87d9-4088-9033-316706e4adb4\" name=\"files[]\" multiple disabled\n",
              "        style=\"border:none\" />\n",
              "     <output id=\"result-9608c425-87d9-4088-9033-316706e4adb4\">\n",
              "      Upload widget is only available when the cell has been executed in the\n",
              "      current browser session. Please rerun this cell to enable.\n",
              "      </output>\n",
              "      <script src=\"/nbextensions/google.colab/files.js\"></script> "
            ],
            "text/plain": [
              "<IPython.core.display.HTML object>"
            ]
          },
          "metadata": {
            "tags": []
          }
        },
        {
          "output_type": "stream",
          "text": [
            "Saving kaggle.json to kaggle (1).json\n"
          ],
          "name": "stdout"
        },
        {
          "output_type": "execute_result",
          "data": {
            "text/plain": [
              "{'kaggle.json': b'{\"username\":\"muhammaddioriza\",\"key\":\"9659fcadd4165a4b3a9c1a4820340a31\"}'}"
            ]
          },
          "metadata": {
            "tags": []
          },
          "execution_count": 2
        }
      ]
    },
    {
      "cell_type": "code",
      "metadata": {
        "id": "ddpn2U8bOJ6t"
      },
      "source": [
        "!mkdir -p ~/.kaggle\n",
        "!cp kaggle.json ~/.kaggle/"
      ],
      "execution_count": null,
      "outputs": []
    },
    {
      "cell_type": "code",
      "metadata": {
        "id": "CJi4fXLbMw-M"
      },
      "source": [
        "!pip install -q kaggle"
      ],
      "execution_count": null,
      "outputs": []
    },
    {
      "cell_type": "code",
      "metadata": {
        "id": "vjQyPCnzMYH7",
        "outputId": "0dc68a1e-b585-4135-ef5d-772bea7664b4",
        "colab": {
          "base_uri": "https://localhost:8080/",
          "height": 119
        }
      },
      "source": [
        "!kaggle competitions download -c MTIDACmincompW1"
      ],
      "execution_count": null,
      "outputs": [
        {
          "output_type": "stream",
          "text": [
            "Warning: Your Kaggle API key is readable by other users on this system! To fix this, you can run 'chmod 600 /root/.kaggle/kaggle.json'\n",
            "Warning: Looks like you're using an outdated API Version, please consider updating (server 1.5.6 / client 1.5.4)\n",
            "test.csv: Skipping, found more recently modified local copy (use --force to force download)\n",
            "data%20dict.csv: Skipping, found more recently modified local copy (use --force to force download)\n",
            "train.csv.zip: Skipping, found more recently modified local copy (use --force to force download)\n",
            "sample.csv: Skipping, found more recently modified local copy (use --force to force download)\n"
          ],
          "name": "stdout"
        }
      ]
    },
    {
      "cell_type": "code",
      "metadata": {
        "id": "VczaPzLlOuBH"
      },
      "source": [
        "local_zip = '/content/train.csv.zip'\n",
        "zip_ref = zipfile.ZipFile(local_zip, 'r')\n",
        "zip_ref.extractall('/tmp')\n",
        "zip_ref.close()"
      ],
      "execution_count": null,
      "outputs": []
    },
    {
      "cell_type": "markdown",
      "metadata": {
        "id": "JI_UpYAGohUz"
      },
      "source": [
        "# Import Dataset & EDA"
      ]
    },
    {
      "cell_type": "markdown",
      "metadata": {
        "id": "TDGFm88dol2u"
      },
      "source": [
        "Data dari pembangunan area di kota X. merupakan data yang disajikan dalam bentuk *hourly dataset* atau per jam yang memiliki 35000 jumlah baris dan memiliki data awal pada tahun 2010 hingga akhir tahun 2013. Data original memiliki kolom terpisah antara tahun, bulan, hari, dan jam. Pada proses data selection, kita akan menyatukan kolom ini kedalam satu kolom dengan format datetime.\n",
        "\n",
        "Yang mana awalnya adalah **'year',\t'month',\t'day',\t'hour'** menjadi **'datetime'**.\n",
        "\n",
        "Yang terakhir adalah kita akan membuat model forecasting dengan LSTM pada target kolom adalah Temperatur dengan format data adalah derajat celcius.\n",
        "\n"
      ]
    },
    {
      "cell_type": "code",
      "metadata": {
        "trusted": true,
        "id": "zsCyB2kwL9al",
        "outputId": "fc17cf7b-d3ae-4ef7-d19c-2808e1a862dd",
        "colab": {
          "base_uri": "https://localhost:8080/",
          "height": 204
        }
      },
      "source": [
        "data_train = pd.read_csv('/tmp/train.csv',)\n",
        "data_train.head()"
      ],
      "execution_count": null,
      "outputs": [
        {
          "output_type": "execute_result",
          "data": {
            "text/html": [
              "<div>\n",
              "<style scoped>\n",
              "    .dataframe tbody tr th:only-of-type {\n",
              "        vertical-align: middle;\n",
              "    }\n",
              "\n",
              "    .dataframe tbody tr th {\n",
              "        vertical-align: top;\n",
              "    }\n",
              "\n",
              "    .dataframe thead th {\n",
              "        text-align: right;\n",
              "    }\n",
              "</style>\n",
              "<table border=\"1\" class=\"dataframe\">\n",
              "  <thead>\n",
              "    <tr style=\"text-align: right;\">\n",
              "      <th></th>\n",
              "      <th>id</th>\n",
              "      <th>year</th>\n",
              "      <th>month</th>\n",
              "      <th>day</th>\n",
              "      <th>hour</th>\n",
              "      <th>pm2.5</th>\n",
              "      <th>DEWP</th>\n",
              "      <th>TEMP</th>\n",
              "      <th>PRES</th>\n",
              "      <th>cbwd</th>\n",
              "      <th>Iws</th>\n",
              "      <th>Is</th>\n",
              "      <th>Ir</th>\n",
              "    </tr>\n",
              "  </thead>\n",
              "  <tbody>\n",
              "    <tr>\n",
              "      <th>0</th>\n",
              "      <td>1</td>\n",
              "      <td>2010</td>\n",
              "      <td>1</td>\n",
              "      <td>1</td>\n",
              "      <td>0</td>\n",
              "      <td>NaN</td>\n",
              "      <td>-21</td>\n",
              "      <td>-11.0</td>\n",
              "      <td>1021.0</td>\n",
              "      <td>NW</td>\n",
              "      <td>1.79</td>\n",
              "      <td>0</td>\n",
              "      <td>0</td>\n",
              "    </tr>\n",
              "    <tr>\n",
              "      <th>1</th>\n",
              "      <td>2</td>\n",
              "      <td>2010</td>\n",
              "      <td>1</td>\n",
              "      <td>1</td>\n",
              "      <td>1</td>\n",
              "      <td>NaN</td>\n",
              "      <td>-21</td>\n",
              "      <td>-12.0</td>\n",
              "      <td>1020.0</td>\n",
              "      <td>NW</td>\n",
              "      <td>4.92</td>\n",
              "      <td>0</td>\n",
              "      <td>0</td>\n",
              "    </tr>\n",
              "    <tr>\n",
              "      <th>2</th>\n",
              "      <td>3</td>\n",
              "      <td>2010</td>\n",
              "      <td>1</td>\n",
              "      <td>1</td>\n",
              "      <td>2</td>\n",
              "      <td>NaN</td>\n",
              "      <td>-21</td>\n",
              "      <td>-11.0</td>\n",
              "      <td>1019.0</td>\n",
              "      <td>NW</td>\n",
              "      <td>6.71</td>\n",
              "      <td>0</td>\n",
              "      <td>0</td>\n",
              "    </tr>\n",
              "    <tr>\n",
              "      <th>3</th>\n",
              "      <td>4</td>\n",
              "      <td>2010</td>\n",
              "      <td>1</td>\n",
              "      <td>1</td>\n",
              "      <td>3</td>\n",
              "      <td>NaN</td>\n",
              "      <td>-21</td>\n",
              "      <td>-14.0</td>\n",
              "      <td>1019.0</td>\n",
              "      <td>NW</td>\n",
              "      <td>9.84</td>\n",
              "      <td>0</td>\n",
              "      <td>0</td>\n",
              "    </tr>\n",
              "    <tr>\n",
              "      <th>4</th>\n",
              "      <td>5</td>\n",
              "      <td>2010</td>\n",
              "      <td>1</td>\n",
              "      <td>1</td>\n",
              "      <td>4</td>\n",
              "      <td>NaN</td>\n",
              "      <td>-20</td>\n",
              "      <td>-12.0</td>\n",
              "      <td>1018.0</td>\n",
              "      <td>NW</td>\n",
              "      <td>12.97</td>\n",
              "      <td>0</td>\n",
              "      <td>0</td>\n",
              "    </tr>\n",
              "  </tbody>\n",
              "</table>\n",
              "</div>"
            ],
            "text/plain": [
              "   id  year  month  day  hour  pm2.5  DEWP  TEMP    PRES cbwd    Iws  Is  Ir\n",
              "0   1  2010      1    1     0    NaN   -21 -11.0  1021.0   NW   1.79   0   0\n",
              "1   2  2010      1    1     1    NaN   -21 -12.0  1020.0   NW   4.92   0   0\n",
              "2   3  2010      1    1     2    NaN   -21 -11.0  1019.0   NW   6.71   0   0\n",
              "3   4  2010      1    1     3    NaN   -21 -14.0  1019.0   NW   9.84   0   0\n",
              "4   5  2010      1    1     4    NaN   -20 -12.0  1018.0   NW  12.97   0   0"
            ]
          },
          "metadata": {
            "tags": []
          },
          "execution_count": 7
        }
      ]
    },
    {
      "cell_type": "code",
      "metadata": {
        "trusted": true,
        "id": "ZDzeqZ3hL9ao",
        "outputId": "d18ae2ff-755d-425b-aa77-357308a6dab5",
        "colab": {
          "base_uri": "https://localhost:8080/",
          "height": 235
        }
      },
      "source": [
        "# Data selection\n",
        "data_train['datetime'] = pd.to_datetime(data_train[['year', 'month','day', 'hour']])\n",
        "data_train = data_train.drop(['year', 'month','day', 'hour'], axis = 1)\n",
        "data_train = data_train[['datetime', 'DEWP', 'TEMP', 'PRES', 'cbwd']].iloc[24:].reset_index()\n",
        "data_train.index = data_train.datetime\n",
        "data_train = data_train.drop(columns=['datetime', 'cbwd', 'index', 'DEWP', 'PRES'])\n",
        "data_train.head()"
      ],
      "execution_count": null,
      "outputs": [
        {
          "output_type": "execute_result",
          "data": {
            "text/html": [
              "<div>\n",
              "<style scoped>\n",
              "    .dataframe tbody tr th:only-of-type {\n",
              "        vertical-align: middle;\n",
              "    }\n",
              "\n",
              "    .dataframe tbody tr th {\n",
              "        vertical-align: top;\n",
              "    }\n",
              "\n",
              "    .dataframe thead th {\n",
              "        text-align: right;\n",
              "    }\n",
              "</style>\n",
              "<table border=\"1\" class=\"dataframe\">\n",
              "  <thead>\n",
              "    <tr style=\"text-align: right;\">\n",
              "      <th></th>\n",
              "      <th>TEMP</th>\n",
              "    </tr>\n",
              "    <tr>\n",
              "      <th>datetime</th>\n",
              "      <th></th>\n",
              "    </tr>\n",
              "  </thead>\n",
              "  <tbody>\n",
              "    <tr>\n",
              "      <th>2010-01-02 00:00:00</th>\n",
              "      <td>-4.0</td>\n",
              "    </tr>\n",
              "    <tr>\n",
              "      <th>2010-01-02 01:00:00</th>\n",
              "      <td>-4.0</td>\n",
              "    </tr>\n",
              "    <tr>\n",
              "      <th>2010-01-02 02:00:00</th>\n",
              "      <td>-5.0</td>\n",
              "    </tr>\n",
              "    <tr>\n",
              "      <th>2010-01-02 03:00:00</th>\n",
              "      <td>-5.0</td>\n",
              "    </tr>\n",
              "    <tr>\n",
              "      <th>2010-01-02 04:00:00</th>\n",
              "      <td>-5.0</td>\n",
              "    </tr>\n",
              "  </tbody>\n",
              "</table>\n",
              "</div>"
            ],
            "text/plain": [
              "                     TEMP\n",
              "datetime                 \n",
              "2010-01-02 00:00:00  -4.0\n",
              "2010-01-02 01:00:00  -4.0\n",
              "2010-01-02 02:00:00  -5.0\n",
              "2010-01-02 03:00:00  -5.0\n",
              "2010-01-02 04:00:00  -5.0"
            ]
          },
          "metadata": {
            "tags": []
          },
          "execution_count": 8
        }
      ]
    },
    {
      "cell_type": "code",
      "metadata": {
        "trusted": true,
        "id": "UzzxPAa0L9ar",
        "outputId": "38203b74-149a-4f4a-8f5c-a1e278ab3e12",
        "colab": {
          "base_uri": "https://localhost:8080/",
          "height": 34
        }
      },
      "source": [
        "# Check ukuran\n",
        "data_train.shape"
      ],
      "execution_count": null,
      "outputs": [
        {
          "output_type": "execute_result",
          "data": {
            "text/plain": [
              "(35040, 1)"
            ]
          },
          "metadata": {
            "tags": []
          },
          "execution_count": 9
        }
      ]
    },
    {
      "cell_type": "code",
      "metadata": {
        "trusted": true,
        "id": "OnsBSgpdL9at",
        "outputId": "1d9942eb-35b0-4d92-9bcc-b7bb9eef3c8d",
        "colab": {
          "base_uri": "https://localhost:8080/",
          "height": 51
        }
      },
      "source": [
        "# check missing value\n",
        "data_train.isnull().sum()"
      ],
      "execution_count": null,
      "outputs": [
        {
          "output_type": "execute_result",
          "data": {
            "text/plain": [
              "TEMP    0\n",
              "dtype: int64"
            ]
          },
          "metadata": {
            "tags": []
          },
          "execution_count": 10
        }
      ]
    },
    {
      "cell_type": "code",
      "metadata": {
        "trusted": true,
        "id": "rQ1gTPqZL9aw",
        "outputId": "183adbed-91f8-4457-9137-076ae3b16c98",
        "colab": {
          "base_uri": "https://localhost:8080/",
          "height": 85
        }
      },
      "source": [
        "# Check minimun dan maximum value pada data\n",
        "print(data_train.min())\n",
        "print(data_train.max())"
      ],
      "execution_count": null,
      "outputs": [
        {
          "output_type": "stream",
          "text": [
            "TEMP   -19.0\n",
            "dtype: float64\n",
            "TEMP    41.0\n",
            "dtype: float64\n"
          ],
          "name": "stdout"
        }
      ]
    },
    {
      "cell_type": "code",
      "metadata": {
        "id": "h4ZeQKsNiuIP",
        "outputId": "6ccf9f80-e9d4-406d-8bb4-e77ec3f64d7a",
        "colab": {
          "base_uri": "https://localhost:8080/",
          "height": 51
        }
      },
      "source": [
        "MAE_SCORE = (data_train.max() - data_train.min()) * 10/100\n",
        "print('Target MAE Score dari skala data < ', MAE_SCORE)"
      ],
      "execution_count": null,
      "outputs": [
        {
          "output_type": "stream",
          "text": [
            "Target MAE Score dari skala data <  TEMP    6.0\n",
            "dtype: float64\n"
          ],
          "name": "stdout"
        }
      ]
    },
    {
      "cell_type": "code",
      "metadata": {
        "id": "gwZi4zqwlcsV",
        "outputId": "976c0d21-a225-4aed-88ca-6824332281fd",
        "colab": {
          "base_uri": "https://localhost:8080/",
          "height": 580
        }
      },
      "source": [
        "#Plot data\n",
        "plot_cols = data_train.columns\n",
        "plot_features = data_train[plot_cols]\n",
        "plot_features.index = data_train.index\n",
        "_ = plot_features.plot(subplots=True, figsize=(20,10))"
      ],
      "execution_count": null,
      "outputs": [
        {
          "output_type": "display_data",
          "data": {
            "image/png": "[encoded data removed]",
            "text/plain": [
              "<Figure size 1440x720 with 1 Axes>"
            ]
          },
          "metadata": {
            "tags": [],
            "needs_background": "light"
          }
        }
      ]
    },
    {
      "cell_type": "code",
      "metadata": {
        "id": "WdeimDFyjrmU",
        "outputId": "003eec6f-a844-47b4-a646-aa2420c18e96",
        "colab": {
          "base_uri": "https://localhost:8080/",
          "height": 824
        }
      },
      "source": [
        "data_train[1:25]"
      ],
      "execution_count": null,
      "outputs": [
        {
          "output_type": "execute_result",
          "data": {
            "text/html": [
              "<div>\n",
              "<style scoped>\n",
              "    .dataframe tbody tr th:only-of-type {\n",
              "        vertical-align: middle;\n",
              "    }\n",
              "\n",
              "    .dataframe tbody tr th {\n",
              "        vertical-align: top;\n",
              "    }\n",
              "\n",
              "    .dataframe thead th {\n",
              "        text-align: right;\n",
              "    }\n",
              "</style>\n",
              "<table border=\"1\" class=\"dataframe\">\n",
              "  <thead>\n",
              "    <tr style=\"text-align: right;\">\n",
              "      <th></th>\n",
              "      <th>TEMP</th>\n",
              "    </tr>\n",
              "    <tr>\n",
              "      <th>datetime</th>\n",
              "      <th></th>\n",
              "    </tr>\n",
              "  </thead>\n",
              "  <tbody>\n",
              "    <tr>\n",
              "      <th>2010-01-02 01:00:00</th>\n",
              "      <td>-4.0</td>\n",
              "    </tr>\n",
              "    <tr>\n",
              "      <th>2010-01-02 02:00:00</th>\n",
              "      <td>-5.0</td>\n",
              "    </tr>\n",
              "    <tr>\n",
              "      <th>2010-01-02 03:00:00</th>\n",
              "      <td>-5.0</td>\n",
              "    </tr>\n",
              "    <tr>\n",
              "      <th>2010-01-02 04:00:00</th>\n",
              "      <td>-5.0</td>\n",
              "    </tr>\n",
              "    <tr>\n",
              "      <th>2010-01-02 05:00:00</th>\n",
              "      <td>-6.0</td>\n",
              "    </tr>\n",
              "    <tr>\n",
              "      <th>2010-01-02 06:00:00</th>\n",
              "      <td>-6.0</td>\n",
              "    </tr>\n",
              "    <tr>\n",
              "      <th>2010-01-02 07:00:00</th>\n",
              "      <td>-5.0</td>\n",
              "    </tr>\n",
              "    <tr>\n",
              "      <th>2010-01-02 08:00:00</th>\n",
              "      <td>-6.0</td>\n",
              "    </tr>\n",
              "    <tr>\n",
              "      <th>2010-01-02 09:00:00</th>\n",
              "      <td>-5.0</td>\n",
              "    </tr>\n",
              "    <tr>\n",
              "      <th>2010-01-02 10:00:00</th>\n",
              "      <td>-5.0</td>\n",
              "    </tr>\n",
              "    <tr>\n",
              "      <th>2010-01-02 11:00:00</th>\n",
              "      <td>-5.0</td>\n",
              "    </tr>\n",
              "    <tr>\n",
              "      <th>2010-01-02 12:00:00</th>\n",
              "      <td>-5.0</td>\n",
              "    </tr>\n",
              "    <tr>\n",
              "      <th>2010-01-02 13:00:00</th>\n",
              "      <td>-5.0</td>\n",
              "    </tr>\n",
              "    <tr>\n",
              "      <th>2010-01-02 14:00:00</th>\n",
              "      <td>-5.0</td>\n",
              "    </tr>\n",
              "    <tr>\n",
              "      <th>2010-01-02 15:00:00</th>\n",
              "      <td>-5.0</td>\n",
              "    </tr>\n",
              "    <tr>\n",
              "      <th>2010-01-02 16:00:00</th>\n",
              "      <td>-5.0</td>\n",
              "    </tr>\n",
              "    <tr>\n",
              "      <th>2010-01-02 17:00:00</th>\n",
              "      <td>-5.0</td>\n",
              "    </tr>\n",
              "    <tr>\n",
              "      <th>2010-01-02 18:00:00</th>\n",
              "      <td>-5.0</td>\n",
              "    </tr>\n",
              "    <tr>\n",
              "      <th>2010-01-02 19:00:00</th>\n",
              "      <td>-5.0</td>\n",
              "    </tr>\n",
              "    <tr>\n",
              "      <th>2010-01-02 20:00:00</th>\n",
              "      <td>-5.0</td>\n",
              "    </tr>\n",
              "    <tr>\n",
              "      <th>2010-01-02 21:00:00</th>\n",
              "      <td>-5.0</td>\n",
              "    </tr>\n",
              "    <tr>\n",
              "      <th>2010-01-02 22:00:00</th>\n",
              "      <td>-6.0</td>\n",
              "    </tr>\n",
              "    <tr>\n",
              "      <th>2010-01-02 23:00:00</th>\n",
              "      <td>-6.0</td>\n",
              "    </tr>\n",
              "    <tr>\n",
              "      <th>2010-01-03 00:00:00</th>\n",
              "      <td>-6.0</td>\n",
              "    </tr>\n",
              "  </tbody>\n",
              "</table>\n",
              "</div>"
            ],
            "text/plain": [
              "                     TEMP\n",
              "datetime                 \n",
              "2010-01-02 01:00:00  -4.0\n",
              "2010-01-02 02:00:00  -5.0\n",
              "2010-01-02 03:00:00  -5.0\n",
              "2010-01-02 04:00:00  -5.0\n",
              "2010-01-02 05:00:00  -6.0\n",
              "2010-01-02 06:00:00  -6.0\n",
              "2010-01-02 07:00:00  -5.0\n",
              "2010-01-02 08:00:00  -6.0\n",
              "2010-01-02 09:00:00  -5.0\n",
              "2010-01-02 10:00:00  -5.0\n",
              "2010-01-02 11:00:00  -5.0\n",
              "2010-01-02 12:00:00  -5.0\n",
              "2010-01-02 13:00:00  -5.0\n",
              "2010-01-02 14:00:00  -5.0\n",
              "2010-01-02 15:00:00  -5.0\n",
              "2010-01-02 16:00:00  -5.0\n",
              "2010-01-02 17:00:00  -5.0\n",
              "2010-01-02 18:00:00  -5.0\n",
              "2010-01-02 19:00:00  -5.0\n",
              "2010-01-02 20:00:00  -5.0\n",
              "2010-01-02 21:00:00  -5.0\n",
              "2010-01-02 22:00:00  -6.0\n",
              "2010-01-02 23:00:00  -6.0\n",
              "2010-01-03 00:00:00  -6.0"
            ]
          },
          "metadata": {
            "tags": []
          },
          "execution_count": 14
        }
      ]
    },
    {
      "cell_type": "code",
      "metadata": {
        "id": "uPLR0_FEkoa_",
        "outputId": "ee3afbc5-1cff-4bd0-ec93-43222e532e9c",
        "colab": {
          "base_uri": "https://localhost:8080/",
          "height": 302
        }
      },
      "source": [
        "#Plot data per dalam 2 minggu pertama\n",
        "sns.lineplot(data=data_train[1:335])"
      ],
      "execution_count": null,
      "outputs": [
        {
          "output_type": "execute_result",
          "data": {
            "text/plain": [
              "<matplotlib.axes._subplots.AxesSubplot at 0x7fab281a9a20>"
            ]
          },
          "metadata": {
            "tags": []
          },
          "execution_count": 15
        },
        {
          "output_type": "display_data",
          "data": {
            "image/png": "[encoded data removed]",
            "text/plain": [
              "<Figure size 432x288 with 1 Axes>"
            ]
          },
          "metadata": {
            "tags": [],
            "needs_background": "light"
          }
        }
      ]
    },
    {
      "cell_type": "code",
      "metadata": {
        "trusted": true,
        "id": "xQEntSoKL9a0",
        "outputId": "9017f4d1-f0dc-41ae-e730-545b4e7d71f2",
        "colab": {
          "base_uri": "https://localhost:8080/",
          "height": 450
        }
      },
      "source": [
        "#Data Normalisasi atau Scaling data\n",
        "train_mean = data_train[:300000].mean()\n",
        "train_std = data_train[:300000].std()\n",
        "data = (data_train-train_mean)/train_std\n",
        "data"
      ],
      "execution_count": null,
      "outputs": [
        {
          "output_type": "execute_result",
          "data": {
            "text/html": [
              "<div>\n",
              "<style scoped>\n",
              "    .dataframe tbody tr th:only-of-type {\n",
              "        vertical-align: middle;\n",
              "    }\n",
              "\n",
              "    .dataframe tbody tr th {\n",
              "        vertical-align: top;\n",
              "    }\n",
              "\n",
              "    .dataframe thead th {\n",
              "        text-align: right;\n",
              "    }\n",
              "</style>\n",
              "<table border=\"1\" class=\"dataframe\">\n",
              "  <thead>\n",
              "    <tr style=\"text-align: right;\">\n",
              "      <th></th>\n",
              "      <th>TEMP</th>\n",
              "    </tr>\n",
              "    <tr>\n",
              "      <th>datetime</th>\n",
              "      <th></th>\n",
              "    </tr>\n",
              "  </thead>\n",
              "  <tbody>\n",
              "    <tr>\n",
              "      <th>2010-01-02 00:00:00</th>\n",
              "      <td>-1.312575</td>\n",
              "    </tr>\n",
              "    <tr>\n",
              "      <th>2010-01-02 01:00:00</th>\n",
              "      <td>-1.312575</td>\n",
              "    </tr>\n",
              "    <tr>\n",
              "      <th>2010-01-02 02:00:00</th>\n",
              "      <td>-1.393830</td>\n",
              "    </tr>\n",
              "    <tr>\n",
              "      <th>2010-01-02 03:00:00</th>\n",
              "      <td>-1.393830</td>\n",
              "    </tr>\n",
              "    <tr>\n",
              "      <th>2010-01-02 04:00:00</th>\n",
              "      <td>-1.393830</td>\n",
              "    </tr>\n",
              "    <tr>\n",
              "      <th>...</th>\n",
              "      <td>...</td>\n",
              "    </tr>\n",
              "    <tr>\n",
              "      <th>2013-12-31 19:00:00</th>\n",
              "      <td>-0.418778</td>\n",
              "    </tr>\n",
              "    <tr>\n",
              "      <th>2013-12-31 20:00:00</th>\n",
              "      <td>-0.418778</td>\n",
              "    </tr>\n",
              "    <tr>\n",
              "      <th>2013-12-31 21:00:00</th>\n",
              "      <td>-0.418778</td>\n",
              "    </tr>\n",
              "    <tr>\n",
              "      <th>2013-12-31 22:00:00</th>\n",
              "      <td>-0.500032</td>\n",
              "    </tr>\n",
              "    <tr>\n",
              "      <th>2013-12-31 23:00:00</th>\n",
              "      <td>-0.418778</td>\n",
              "    </tr>\n",
              "  </tbody>\n",
              "</table>\n",
              "<p>35040 rows × 1 columns</p>\n",
              "</div>"
            ],
            "text/plain": [
              "                         TEMP\n",
              "datetime                     \n",
              "2010-01-02 00:00:00 -1.312575\n",
              "2010-01-02 01:00:00 -1.312575\n",
              "2010-01-02 02:00:00 -1.393830\n",
              "2010-01-02 03:00:00 -1.393830\n",
              "2010-01-02 04:00:00 -1.393830\n",
              "...                       ...\n",
              "2013-12-31 19:00:00 -0.418778\n",
              "2013-12-31 20:00:00 -0.418778\n",
              "2013-12-31 21:00:00 -0.418778\n",
              "2013-12-31 22:00:00 -0.500032\n",
              "2013-12-31 23:00:00 -0.418778\n",
              "\n",
              "[35040 rows x 1 columns]"
            ]
          },
          "metadata": {
            "tags": []
          },
          "execution_count": 16
        }
      ]
    },
    {
      "cell_type": "markdown",
      "metadata": {
        "id": "w_sa9UI0L9a2"
      },
      "source": [
        "# Train Test Split & Data Format"
      ]
    },
    {
      "cell_type": "markdown",
      "metadata": {
        "id": "WgQT0YXOstUT"
      },
      "source": [
        "N = Jumlah baris\n",
        "F = Feature\n",
        "S = Sequence/ Window\n",
        "\n",
        "\n",
        "Pada input data SVM, Random Forest, Naive Bayes dll.. memiliki input data [N,F] Jika pada gambar dibawah ini data ini memiliki ukuran [15, 2].\n",
        "\n",
        "Untuk input data RNN yang mana ini adalah bentuk dari data kita, ukuran datanya akan dirubah dengan format [N, S, F] maka pada data dibawah ini format ukuran datanya akan menjadi [5, 3, 2] artinya memiliki 5 Data, 3 Sequence atau window dan memiliki 1 fitur.\n",
        "\n",
        "Pada dataset kali ini kita akan memformat [N, S, F] menjadi per minggu data dari awal data training [28032, 1] dirubah dengan format sequence atau window dengan 7 hari dikali satu hari data. "
      ]
    },
    {
      "cell_type": "markdown",
      "metadata": {
        "id": "RO5ja37-rugd"
      },
      "source": [
        "![alt text](https://1.bp.blogspot.com/-E3udgc7glRw/X0moIlqZRTI/AAAAAAAAB74/1GIf8yJ2U-InHsXvDliTJ27R3NL6c5aMwCLcBGAsYHQ/w945-h600-p-k-no-nu/Screen%2BShot%2B2020-08-29%2Bat%2B7.57.48%2Bam.png)"
      ]
    },
    {
      "cell_type": "code",
      "metadata": {
        "trusted": true,
        "id": "UNXTrhrWL9a3",
        "outputId": "f6898911-254d-44b5-aca3-903ca4965a9e",
        "colab": {
          "base_uri": "https://localhost:8080/",
          "height": 34
        }
      },
      "source": [
        "# Split data 80% untuk training dan 20% untuk test\n",
        "train_data = int(len(data) * 0.8)\n",
        "test_data = len(data) - train_data\n",
        "train, test = data.iloc[0:train_data], data.iloc[train_data:len(data)]\n",
        "print(train.shape, test.shape)"
      ],
      "execution_count": null,
      "outputs": [
        {
          "output_type": "stream",
          "text": [
            "(28032, 1) (7008, 1)\n"
          ],
          "name": "stdout"
        }
      ]
    },
    {
      "cell_type": "code",
      "metadata": {
        "trusted": true,
        "id": "_SLggPmTL9a5"
      },
      "source": [
        "# Window function untuk reshape ke 3D data\n",
        "def create_sequences(X_train, y_train,time_steps=1):\n",
        "    Xs,ys =[],[]\n",
        "    for i in range(len(X_train)-time_steps):\n",
        "        Xs.append(X_train.iloc[i:(i+time_steps)].values)\n",
        "        ys.append(y_train.iloc[i+time_steps])\n",
        "        \n",
        "    return np.array(Xs),np.array(ys)"
      ],
      "execution_count": null,
      "outputs": []
    },
    {
      "cell_type": "code",
      "metadata": {
        "trusted": true,
        "id": "19IA7ky7L9a8",
        "outputId": "a719f2ee-8f65-4947-d8d9-f4b6318cd42b",
        "colab": {
          "base_uri": "https://localhost:8080/",
          "height": 34
        }
      },
      "source": [
        "#Memfilter data train dan test dengan 1 minggu data = 168, 24 row = 1 hari\n",
        "time_steps=24*7\n",
        "\n",
        "X_train,y_train = create_sequences(train[['TEMP']],train.TEMP,time_steps)\n",
        "X_test,y_test = create_sequences(test[['TEMP']],train.TEMP,time_steps)\n",
        "print(X_train.shape,y_train.shape, X_test.shape,y_test.shape)"
      ],
      "execution_count": null,
      "outputs": [
        {
          "output_type": "stream",
          "text": [
            "(27864, 168, 1) (27864,) (6840, 168, 1) (6840,)\n"
          ],
          "name": "stdout"
        }
      ]
    },
    {
      "cell_type": "markdown",
      "metadata": {
        "id": "PS0NIIPVL9a-"
      },
      "source": [
        "# LSTM Bidirectional Layer"
      ]
    },
    {
      "cell_type": "markdown",
      "metadata": {
        "id": "ZiSY__qcm4fz"
      },
      "source": [
        "Cara kerja dari LSTM Bidirectional adalah menjalankan input dua arah kedalam dua cara, satu dari masa lalu ke masa depan dan satu dari masa depan ke masa lalu dan apa yang berbeda dari pendekatan ini adalah berbeda dengan Unidirectional LSTM yang berjalan mundur saat menyimpan informasi dari masa depan dan menggunakan dua *hidden state* digabungkan pada suatu pada suatu titik waktu untuk menyimpan informasi dari masa lalu dan masa depan.\n",
        "\n",
        "Dipilih karena peforma penurunan cost atau loss lebih baik ketimbang forward lstm dan backward lstm."
      ]
    },
    {
      "cell_type": "markdown",
      "metadata": {
        "id": "2bQjF2wDnO-N"
      },
      "source": [
        "![alt text](https://3qeqpr26caki16dnhd19sv6by6v-wpengine.netdna-ssl.com/wp-content/uploads/2017/05/Line-Plot-of-Log-Loss-for-an-LSTM-Reversed-LSTM-and-a-Bidirectional-LSTM.png)"
      ]
    },
    {
      "cell_type": "markdown",
      "metadata": {
        "id": "WOyeyCbAUwZS"
      },
      "source": [
        "## Training Model & Testing"
      ]
    },
    {
      "cell_type": "code",
      "metadata": {
        "trusted": true,
        "id": "gCA7fIgsL9a-",
        "outputId": "d829c59f-0bfb-4faa-9167-5a1be366d7fe",
        "colab": {
          "base_uri": "https://localhost:8080/",
          "height": 1000
        }
      },
      "source": [
        "model = tf.keras.models.Sequential([\n",
        "    tf.keras.layers.LSTM(512, return_sequences=True, input_shape=(X_train.shape[1], X_train.shape[2])),\n",
        "    tf.keras.layers.Dropout(0.3),\n",
        "    tf.keras.layers.Bidirectional(tf.keras.layers.LSTM(32)),\n",
        "    tf.keras.layers.Dropout(0.3),\n",
        "    tf.keras.layers.Dense(168, activation=\"relu\"),\n",
        "    tf.keras.layers.Dropout(0.3),\n",
        "    tf.keras.layers.Dense(1)\n",
        "])\n",
        "\n",
        "model.compile(\n",
        "    loss=tf.keras.losses.Huber(reduction=tf.keras.losses.Reduction.SUM),\n",
        "    optimizer=tf.keras.optimizers.Adam(lr=1e-4),\n",
        "    metrics=[\"mae\"]\n",
        ")\n",
        "\n",
        "callback = tf.keras.callbacks.EarlyStopping(monitor='mae',patience=3)\n",
        "\n",
        "history = model.fit(\n",
        "        X_train, y_train, epochs=100,batch_size=64, callbacks=[callback]\n",
        ")"
      ],
      "execution_count": null,
      "outputs": [
        {
          "output_type": "stream",
          "text": [
            "Epoch 1/100\n",
            "436/436 [==============================] - 19s 44ms/step - loss: 4.6632 - mae: 0.2945\n",
            "Epoch 2/100\n",
            "436/436 [==============================] - 19s 44ms/step - loss: 1.8106 - mae: 0.1860\n",
            "Epoch 3/100\n",
            "436/436 [==============================] - 20s 46ms/step - loss: 1.4585 - mae: 0.1670\n",
            "Epoch 4/100\n",
            "436/436 [==============================] - 20s 47ms/step - loss: 1.3010 - mae: 0.1570\n",
            "Epoch 5/100\n",
            "436/436 [==============================] - 21s 48ms/step - loss: 1.2153 - mae: 0.1506\n",
            "Epoch 6/100\n",
            "436/436 [==============================] - 21s 48ms/step - loss: 1.1121 - mae: 0.1448\n",
            "Epoch 7/100\n",
            "436/436 [==============================] - 21s 47ms/step - loss: 1.0500 - mae: 0.1404\n",
            "Epoch 8/100\n",
            "436/436 [==============================] - 21s 47ms/step - loss: 1.0069 - mae: 0.1371\n",
            "Epoch 9/100\n",
            "436/436 [==============================] - 21s 48ms/step - loss: 0.9591 - mae: 0.1338\n",
            "Epoch 10/100\n",
            "436/436 [==============================] - 21s 48ms/step - loss: 0.9389 - mae: 0.1321\n",
            "Epoch 11/100\n",
            "436/436 [==============================] - 21s 47ms/step - loss: 0.8883 - mae: 0.1282\n",
            "Epoch 12/100\n",
            "436/436 [==============================] - 21s 47ms/step - loss: 0.8810 - mae: 0.1274\n",
            "Epoch 13/100\n",
            "436/436 [==============================] - 21s 47ms/step - loss: 0.8613 - mae: 0.1253\n",
            "Epoch 14/100\n",
            "436/436 [==============================] - 21s 48ms/step - loss: 0.8221 - mae: 0.1233\n",
            "Epoch 15/100\n",
            "436/436 [==============================] - 21s 47ms/step - loss: 0.7990 - mae: 0.1212\n",
            "Epoch 16/100\n",
            "436/436 [==============================] - 21s 48ms/step - loss: 0.8005 - mae: 0.1209\n",
            "Epoch 17/100\n",
            "436/436 [==============================] - 21s 48ms/step - loss: 0.7888 - mae: 0.1206\n",
            "Epoch 18/100\n",
            "436/436 [==============================] - 21s 48ms/step - loss: 0.7689 - mae: 0.1184\n",
            "Epoch 19/100\n",
            "436/436 [==============================] - 21s 48ms/step - loss: 0.7570 - mae: 0.1181\n",
            "Epoch 20/100\n",
            "436/436 [==============================] - 21s 47ms/step - loss: 0.7427 - mae: 0.1167\n",
            "Epoch 21/100\n",
            "436/436 [==============================] - 21s 47ms/step - loss: 0.7364 - mae: 0.1160\n",
            "Epoch 22/100\n",
            "436/436 [==============================] - 21s 47ms/step - loss: 0.7330 - mae: 0.1156\n",
            "Epoch 23/100\n",
            "436/436 [==============================] - 21s 47ms/step - loss: 0.7234 - mae: 0.1150\n",
            "Epoch 24/100\n",
            "436/436 [==============================] - 21s 47ms/step - loss: 0.7183 - mae: 0.1147\n",
            "Epoch 25/100\n",
            "436/436 [==============================] - 21s 47ms/step - loss: 0.7113 - mae: 0.1143\n",
            "Epoch 26/100\n",
            "436/436 [==============================] - 21s 47ms/step - loss: 0.7140 - mae: 0.1141\n",
            "Epoch 27/100\n",
            "436/436 [==============================] - 21s 47ms/step - loss: 0.7071 - mae: 0.1130\n",
            "Epoch 28/100\n",
            "436/436 [==============================] - 21s 47ms/step - loss: 0.6825 - mae: 0.1118\n",
            "Epoch 29/100\n",
            "436/436 [==============================] - 21s 47ms/step - loss: 0.6817 - mae: 0.1116\n",
            "Epoch 30/100\n",
            "436/436 [==============================] - 21s 47ms/step - loss: 0.6997 - mae: 0.1129\n",
            "Epoch 31/100\n",
            "436/436 [==============================] - 21s 47ms/step - loss: 0.6717 - mae: 0.1110\n",
            "Epoch 32/100\n",
            "436/436 [==============================] - 20s 47ms/step - loss: 0.6743 - mae: 0.1108\n",
            "Epoch 33/100\n",
            "436/436 [==============================] - 20s 47ms/step - loss: 0.6677 - mae: 0.1104\n",
            "Epoch 34/100\n",
            "436/436 [==============================] - 20s 47ms/step - loss: 0.6838 - mae: 0.1116\n",
            "Epoch 35/100\n",
            "436/436 [==============================] - 20s 47ms/step - loss: 0.6550 - mae: 0.1093\n",
            "Epoch 36/100\n",
            "436/436 [==============================] - 21s 47ms/step - loss: 0.6670 - mae: 0.1107\n",
            "Epoch 37/100\n",
            "436/436 [==============================] - 20s 47ms/step - loss: 0.6552 - mae: 0.1094\n",
            "Epoch 38/100\n",
            "436/436 [==============================] - 21s 47ms/step - loss: 0.6434 - mae: 0.1087\n",
            "Epoch 39/100\n",
            "436/436 [==============================] - 21s 47ms/step - loss: 0.6656 - mae: 0.1101\n",
            "Epoch 40/100\n",
            "436/436 [==============================] - 21s 47ms/step - loss: 0.6492 - mae: 0.1091\n",
            "Epoch 41/100\n",
            "436/436 [==============================] - 21s 47ms/step - loss: 0.6558 - mae: 0.1093\n"
          ],
          "name": "stdout"
        }
      ]
    },
    {
      "cell_type": "code",
      "metadata": {
        "trusted": true,
        "id": "Losa43ZEL9bA",
        "outputId": "5ab44249-d20b-4369-be7e-ef990be10bd3",
        "colab": {
          "base_uri": "https://localhost:8080/",
          "height": 301
        }
      },
      "source": [
        "# Plotting mae loss\n",
        "plt.plot(history.history['mae'])\n",
        "plt.title('model mae')\n",
        "plt.ylabel('mae')\n",
        "plt.xlabel('epoch')\n",
        "plt.legend(['MAE'], loc='upper right')\n",
        "plt.show()"
      ],
      "execution_count": null,
      "outputs": [
        {
          "output_type": "display_data",
          "data": {
            "image/png": "[encoded data removed]",
            "text/plain": [
              "<Figure size 432x288 with 1 Axes>"
            ]
          },
          "metadata": {
            "tags": [],
            "needs_background": "light"
          }
        }
      ]
    },
    {
      "cell_type": "code",
      "metadata": {
        "trusted": true,
        "id": "Q-gjbT-jL9bC",
        "outputId": "7b788410-c99b-4044-c2c7-eca62df9bb72",
        "colab": {
          "base_uri": "https://localhost:8080/",
          "height": 51
        }
      },
      "source": [
        "model.evaluate(X_test, y_test)"
      ],
      "execution_count": null,
      "outputs": [
        {
          "output_type": "stream",
          "text": [
            "214/214 [==============================] - 3s 15ms/step - loss: 19.6538 - mae: 1.0540\n"
          ],
          "name": "stdout"
        },
        {
          "output_type": "execute_result",
          "data": {
            "text/plain": [
              "[19.65384292602539, 1.054032564163208]"
            ]
          },
          "metadata": {
            "tags": []
          },
          "execution_count": 22
        }
      ]
    },
    {
      "cell_type": "markdown",
      "metadata": {
        "id": "8MKOmGWpz1MO"
      },
      "source": [
        "## Model kita telah memiliki nilai MAE yang bagus pada data test yaitu 1.05 dengan skala < 6"
      ]
    },
    {
      "cell_type": "code",
      "metadata": {
        "trusted": true,
        "id": "DbbWJB4VL9bE"
      },
      "source": [
        "X_plot = model.predict(X_train, verbose=0)"
      ],
      "execution_count": null,
      "outputs": []
    },
    {
      "cell_type": "code",
      "metadata": {
        "trusted": true,
        "id": "TwFCIn2oL9bG",
        "outputId": "e93d6cc6-9e34-49f5-e864-47898557cc8c",
        "colab": {
          "base_uri": "https://localhost:8080/",
          "height": 287
        }
      },
      "source": [
        "#Plot Preds vs Actual\n",
        "aa=[x for x in range(336)]\n",
        "plt.plot(aa, X_plot[:336], 'r',  label=\"Prediction\")\n",
        "plt.plot(aa, y_train[:336], 'b', label=\"Actual\")\n",
        "plt.ylabel('TEMP', size=15)\n",
        "plt.xlabel('Time', size=15)\n",
        "plt.legend(fontsize=10)\n",
        "plt.show()"
      ],
      "execution_count": null,
      "outputs": [
        {
          "output_type": "display_data",
          "data": {
            "image/png": "[encoded data removed]",
            "text/plain": [
              "<Figure size 432x288 with 1 Axes>"
            ]
          },
          "metadata": {
            "tags": [],
            "needs_background": "light"
          }
        }
      ]
    },
    {
      "cell_type": "markdown",
      "metadata": {
        "id": "X4p-nUS4vOPU"
      },
      "source": [
        "# Update Window Dataset"
      ]
    },
    {
      "cell_type": "code",
      "metadata": {
        "id": "OGaqEcZIUL9l",
        "outputId": "55d543de-ad0c-49fb-a6e0-84f0807d383c",
        "colab": {
          "base_uri": "https://localhost:8080/",
          "height": 34
        }
      },
      "source": [
        "# Window/sequence yang dipilih menkadi per 3 hari data.\n",
        "time_step=24*3\n",
        "\n",
        "X_train,y_train = create_sequences(train[['TEMP']],train.TEMP,time_step)\n",
        "X_test,y_test = create_sequences(test[['TEMP']],train.TEMP,time_step)\n",
        "print(X_train.shape,y_train.shape, X_test.shape,y_test.shape)\n"
      ],
      "execution_count": null,
      "outputs": [
        {
          "output_type": "stream",
          "text": [
            "(27960, 72, 1) (27960,) (6936, 72, 1) (6936,)\n"
          ],
          "name": "stdout"
        }
      ]
    },
    {
      "cell_type": "code",
      "metadata": {
        "id": "sUe2IoYuUTSG",
        "outputId": "d2511c69-69fd-46fb-d38e-4e8d1c829d8d",
        "colab": {
          "base_uri": "https://localhost:8080/",
          "height": 1000
        }
      },
      "source": [
        "model = tf.keras.models.Sequential([\n",
        "    tf.keras.layers.LSTM(512, return_sequences=True, input_shape=(X_train.shape[1], X_train.shape[2])),\n",
        "    tf.keras.layers.Dropout(0.3),\n",
        "    tf.keras.layers.Bidirectional(tf.keras.layers.LSTM(32)),\n",
        "    tf.keras.layers.Dropout(0.3),\n",
        "    tf.keras.layers.Dense(168, activation=\"relu\"),\n",
        "    tf.keras.layers.Dropout(0.3),\n",
        "    tf.keras.layers.Dense(1)\n",
        "])\n",
        "\n",
        "model.compile(\n",
        "    loss=tf.keras.losses.Huber(reduction=tf.keras.losses.Reduction.SUM),\n",
        "    optimizer=tf.keras.optimizers.Adam(lr=1e-4),\n",
        "    metrics=[\"mae\"]\n",
        ")\n",
        "\n",
        "callback = tf.keras.callbacks.EarlyStopping(monitor='mae',patience=3)\n",
        "\n",
        "history = model.fit(\n",
        "        X_train, y_train, epochs=100,batch_size=64, callbacks=[callback]\n",
        ")\n",
        "\n",
        "# Plotting mae loss\n",
        "plt.plot(history.history['mae'])\n",
        "plt.title('model mae')\n",
        "plt.ylabel('mae')\n",
        "plt.xlabel('epoch')\n",
        "plt.legend(['MAE'], loc='upper right')\n",
        "plt.show()"
      ],
      "execution_count": null,
      "outputs": [
        {
          "output_type": "stream",
          "text": [
            "Epoch 1/100\n",
            "437/437 [==============================] - 9s 21ms/step - loss: 4.6494 - mae: 0.2927\n",
            "Epoch 2/100\n",
            "437/437 [==============================] - 9s 21ms/step - loss: 1.8689 - mae: 0.1887\n",
            "Epoch 3/100\n",
            "437/437 [==============================] - 9s 21ms/step - loss: 1.5244 - mae: 0.1696\n",
            "Epoch 4/100\n",
            "437/437 [==============================] - 9s 21ms/step - loss: 1.3476 - mae: 0.1599\n",
            "Epoch 5/100\n",
            "437/437 [==============================] - 9s 21ms/step - loss: 1.2157 - mae: 0.1511\n",
            "Epoch 6/100\n",
            "437/437 [==============================] - 9s 21ms/step - loss: 1.1315 - mae: 0.1459\n",
            "Epoch 7/100\n",
            "437/437 [==============================] - 9s 21ms/step - loss: 1.0561 - mae: 0.1404\n",
            "Epoch 8/100\n",
            "437/437 [==============================] - 9s 21ms/step - loss: 1.0154 - mae: 0.1375\n",
            "Epoch 9/100\n",
            "437/437 [==============================] - 9s 21ms/step - loss: 0.9746 - mae: 0.1346\n",
            "Epoch 10/100\n",
            "437/437 [==============================] - 9s 21ms/step - loss: 0.9342 - mae: 0.1317\n",
            "Epoch 11/100\n",
            "437/437 [==============================] - 9s 21ms/step - loss: 0.8898 - mae: 0.1284\n",
            "Epoch 12/100\n",
            "437/437 [==============================] - 9s 21ms/step - loss: 0.8617 - mae: 0.1259\n",
            "Epoch 13/100\n",
            "437/437 [==============================] - 9s 21ms/step - loss: 0.8357 - mae: 0.1239\n",
            "Epoch 14/100\n",
            "437/437 [==============================] - 9s 21ms/step - loss: 0.8325 - mae: 0.1239\n",
            "Epoch 15/100\n",
            "437/437 [==============================] - 9s 21ms/step - loss: 0.8101 - mae: 0.1218\n",
            "Epoch 16/100\n",
            "437/437 [==============================] - 9s 21ms/step - loss: 0.8124 - mae: 0.1220\n",
            "Epoch 17/100\n",
            "437/437 [==============================] - 9s 21ms/step - loss: 0.7862 - mae: 0.1203\n",
            "Epoch 18/100\n",
            "437/437 [==============================] - 9s 21ms/step - loss: 0.7881 - mae: 0.1201\n",
            "Epoch 19/100\n",
            "437/437 [==============================] - 9s 21ms/step - loss: 0.7657 - mae: 0.1181\n",
            "Epoch 20/100\n",
            "437/437 [==============================] - 9s 21ms/step - loss: 0.7536 - mae: 0.1174\n",
            "Epoch 21/100\n",
            "437/437 [==============================] - 9s 21ms/step - loss: 0.7332 - mae: 0.1161\n",
            "Epoch 22/100\n",
            "437/437 [==============================] - 9s 21ms/step - loss: 0.7510 - mae: 0.1169\n",
            "Epoch 23/100\n",
            "437/437 [==============================] - 9s 21ms/step - loss: 0.7449 - mae: 0.1162\n",
            "Epoch 24/100\n",
            "437/437 [==============================] - 9s 21ms/step - loss: 0.7122 - mae: 0.1140\n",
            "Epoch 25/100\n",
            "437/437 [==============================] - 9s 21ms/step - loss: 0.7233 - mae: 0.1147\n",
            "Epoch 26/100\n",
            "437/437 [==============================] - 9s 21ms/step - loss: 0.7086 - mae: 0.1139\n",
            "Epoch 27/100\n",
            "437/437 [==============================] - 9s 21ms/step - loss: 0.6968 - mae: 0.1132\n",
            "Epoch 28/100\n",
            "437/437 [==============================] - 9s 21ms/step - loss: 0.6960 - mae: 0.1127\n",
            "Epoch 29/100\n",
            "437/437 [==============================] - 9s 21ms/step - loss: 0.6876 - mae: 0.1124\n",
            "Epoch 30/100\n",
            "437/437 [==============================] - 9s 21ms/step - loss: 0.6913 - mae: 0.1118\n",
            "Epoch 31/100\n",
            "437/437 [==============================] - 9s 21ms/step - loss: 0.6804 - mae: 0.1112\n",
            "Epoch 32/100\n",
            "437/437 [==============================] - 9s 21ms/step - loss: 0.6710 - mae: 0.1107\n",
            "Epoch 33/100\n",
            "437/437 [==============================] - 9s 21ms/step - loss: 0.6746 - mae: 0.1109\n",
            "Epoch 34/100\n",
            "437/437 [==============================] - 9s 21ms/step - loss: 0.6609 - mae: 0.1101\n",
            "Epoch 35/100\n",
            "437/437 [==============================] - 9s 22ms/step - loss: 0.6636 - mae: 0.1099\n",
            "Epoch 36/100\n",
            "437/437 [==============================] - 9s 22ms/step - loss: 0.6588 - mae: 0.1097\n",
            "Epoch 37/100\n",
            "437/437 [==============================] - 9s 22ms/step - loss: 0.6577 - mae: 0.1097\n",
            "Epoch 38/100\n",
            "437/437 [==============================] - 9s 21ms/step - loss: 0.6583 - mae: 0.1098\n",
            "Epoch 39/100\n",
            "437/437 [==============================] - 9s 21ms/step - loss: 0.6519 - mae: 0.1093\n",
            "Epoch 40/100\n",
            "437/437 [==============================] - 9s 21ms/step - loss: 0.6465 - mae: 0.1083\n",
            "Epoch 41/100\n",
            "437/437 [==============================] - 9s 21ms/step - loss: 0.6481 - mae: 0.1089\n",
            "Epoch 42/100\n",
            "437/437 [==============================] - 9s 21ms/step - loss: 0.6372 - mae: 0.1077\n",
            "Epoch 43/100\n",
            "437/437 [==============================] - 9s 21ms/step - loss: 0.6491 - mae: 0.1084\n",
            "Epoch 44/100\n",
            "437/437 [==============================] - 9s 21ms/step - loss: 0.6440 - mae: 0.1081\n",
            "Epoch 45/100\n",
            "437/437 [==============================] - 9s 21ms/step - loss: 0.6480 - mae: 0.1086\n"
          ],
          "name": "stdout"
        },
        {
          "output_type": "display_data",
          "data": {
            "image/png": "[encoded data removed]",
            "text/plain": [
              "<Figure size 432x288 with 1 Axes>"
            ]
          },
          "metadata": {
            "tags": [],
            "needs_background": "light"
          }
        }
      ]
    },
    {
      "cell_type": "code",
      "metadata": {
        "id": "Xfx8x9SMUoEl",
        "outputId": "552459ef-eff5-4878-b33b-92762411b3ce",
        "colab": {
          "base_uri": "https://localhost:8080/",
          "height": 51
        }
      },
      "source": [
        "model.evaluate(X_test, y_test)"
      ],
      "execution_count": null,
      "outputs": [
        {
          "output_type": "stream",
          "text": [
            "217/217 [==============================] - 2s 7ms/step - loss: 19.6817 - mae: 1.0533\n"
          ],
          "name": "stdout"
        },
        {
          "output_type": "execute_result",
          "data": {
            "text/plain": [
              "[19.681652069091797, 1.053336501121521]"
            ]
          },
          "metadata": {
            "tags": []
          },
          "execution_count": 27
        }
      ]
    },
    {
      "cell_type": "markdown",
      "metadata": {
        "id": "siTmhQ7rviH_"
      },
      "source": [
        "Model kita telah memiliki nilai MAE yang bagus pada data test yaitu 1.05. dengan skala < 6"
      ]
    },
    {
      "cell_type": "code",
      "metadata": {
        "id": "nrnG41r-UpyF"
      },
      "source": [
        "X_plot = model.predict(X_train, verbose=0)"
      ],
      "execution_count": null,
      "outputs": []
    },
    {
      "cell_type": "code",
      "metadata": {
        "id": "8aJ2W9j-UruO",
        "outputId": "1f1f59de-b4b2-4ca9-ebe6-f2a8660ea9a9",
        "colab": {
          "base_uri": "https://localhost:8080/",
          "height": 287
        }
      },
      "source": [
        "#Plot Preds vs Actual\n",
        "aa=[x for x in range(168)]\n",
        "plt.plot(aa, X_plot[:168], 'r',  label=\"Prediction\")\n",
        "plt.plot(aa, y_train[:168], 'b', label=\"Actual\")\n",
        "plt.ylabel('TEMP', size=15)\n",
        "plt.xlabel('Time', size=15)\n",
        "plt.legend(fontsize=10)\n",
        "plt.show()"
      ],
      "execution_count": null,
      "outputs": [
        {
          "output_type": "display_data",
          "data": {
            "image/png": "[encoded data removed]",
            "text/plain": [
              "<Figure size 432x288 with 1 Axes>"
            ]
          },
          "metadata": {
            "tags": [],
            "needs_background": "light"
          }
        }
      ]
    },
    {
      "cell_type": "markdown",
      "metadata": {
        "id": "yDUJITO0vdYT"
      },
      "source": [
        "# Referensi"
      ]
    },
    {
      "cell_type": "markdown",
      "metadata": {
        "id": "9ELF6JHuvunq"
      },
      "source": [
        "- https://www.dicoding.com/academies/185\n",
        "- https://www.tensorflow.org/tutorials/structured_data/time_series\n",
        "- https://www.youtube.com/watch?v=ZtVwUM_V1Zo&list=PLGn1wRmlR3Ms0f5m56nTh0Jr-nZ6Rv7NU&index=10\n",
        "- https://medium.com/@llmkhoa511/time-series-analysis-and-weather-forecast-in-python-e80b664c7f71\n",
        "- https://www.tensorflow.org/api_docs/python/tf/keras/layers/Bidirectional\n",
        "- https://machinelearningmastery.com/how-to-develop-lstm-models-for-time-series-forecasting/\n",
        "- https://youtu.be/H4J74KstHTE\n",
        "- https://machinelearningmastery.com/develop-bidirectional-lstm-sequence-classification-python-keras/"
      ]
    }
  ]
}