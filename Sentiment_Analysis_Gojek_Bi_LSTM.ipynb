{
  "nbformat": 4,
  "nbformat_minor": 0,
  "metadata": {
    "colab": {
      "name": "Sentiment Analysis Gojek Bi-LSTM.ipynb",
      "provenance": [],
      "collapsed_sections": [],
      "toc_visible": true,
      "authorship_tag": "ABX9TyODVH/CtjqwcvA7tcpnWc2u",
      "include_colab_link": true
    },
    "kernelspec": {
      "name": "python3",
      "display_name": "Python 3"
    },
    "accelerator": "GPU"
  },
  "cells": [
    {
      "cell_type": "markdown",
      "metadata": {
        "id": "view-in-github",
        "colab_type": "text"
      },
      "source": [
        "<a href=\"https://colab.research.google.com/github/Dioriza/Tensorflow-Project/blob/master/Sentiment_Analysis_Gojek_Bi_LSTM.ipynb\" target=\"_parent\"><img src=\"https://colab.research.google.com/assets/colab-badge.svg\" alt=\"Open In Colab\"/></a>"
      ]
    },
    {
      "cell_type": "markdown",
      "metadata": {
        "id": "2w93C9UMPHnj"
      },
      "source": [
        "# Import Package"
      ]
    },
    {
      "cell_type": "code",
      "metadata": {
        "id": "OuCVVn_zipBv"
      },
      "source": [
        "import pandas as pd\n",
        "import numpy as np\n",
        "import zipfile\n",
        "import re\n",
        "\n",
        "from sklearn.model_selection import train_test_split\n",
        "\n",
        "import tensorflow as tf\n",
        "from tensorflow.keras.preprocessing.sequence import pad_sequences\n",
        "from tensorflow.keras.layers import Embedding, LSTM, Dense, Bidirectional, Dropout\n",
        "from tensorflow.keras.preprocessing.text import Tokenizer\n",
        "from tensorflow.keras.models import Sequential"
      ],
      "execution_count": null,
      "outputs": []
    },
    {
      "cell_type": "markdown",
      "metadata": {
        "id": "RvzD3I6vPPcI"
      },
      "source": [
        "# Import Dataset"
      ]
    },
    {
      "cell_type": "markdown",
      "metadata": {
        "id": "z3lGyfxLx6BA"
      },
      "source": [
        "Dataset yang akan dijadikan uji sentiment analysis adalah Dataset review aplikasi Gojek yang terdapat di playstore. Memiliki dua sentiment yang akan dianalisa yaitu **Positive** dan **Negative**"
      ]
    },
    {
      "cell_type": "code",
      "metadata": {
        "id": "aOgjNYzNNrfp",
        "outputId": "8d762c58-cb18-41ea-8a91-7e4b289b4400",
        "colab": {
          "base_uri": "https://localhost:8080/",
          "height": 289
        }
      },
      "source": [
        "!wget https://github.com/WiraDKP/word_vector/raw/master/22%20-%20Word%20Vector/data.zip"
      ],
      "execution_count": null,
      "outputs": [
        {
          "output_type": "stream",
          "text": [
            "--2020-09-06 10:41:07--  https://github.com/WiraDKP/word_vector/raw/master/22%20-%20Word%20Vector/data.zip\n",
            "Resolving github.com (github.com)... 140.82.118.4\n",
            "Connecting to github.com (github.com)|140.82.118.4|:443... connected.\n",
            "HTTP request sent, awaiting response... 302 Found\n",
            "Location: https://raw.githubusercontent.com/WiraDKP/word_vector/master/22%20-%20Word%20Vector/data.zip [following]\n",
            "--2020-09-06 10:41:07--  https://raw.githubusercontent.com/WiraDKP/word_vector/master/22%20-%20Word%20Vector/data.zip\n",
            "Resolving raw.githubusercontent.com (raw.githubusercontent.com)... 151.101.0.133, 151.101.64.133, 151.101.128.133, ...\n",
            "Connecting to raw.githubusercontent.com (raw.githubusercontent.com)|151.101.0.133|:443... connected.\n",
            "HTTP request sent, awaiting response... 200 OK\n",
            "Length: 184047 (180K) [application/zip]\n",
            "Saving to: ‘data.zip’\n",
            "\n",
            "data.zip            100%[===================>] 179.73K  --.-KB/s    in 0.01s   \n",
            "\n",
            "2020-09-06 10:41:08 (13.8 MB/s) - ‘data.zip’ saved [184047/184047]\n",
            "\n"
          ],
          "name": "stdout"
        }
      ]
    },
    {
      "cell_type": "code",
      "metadata": {
        "id": "i43imz6_NtBp"
      },
      "source": [
        "local_zip = 'data.zip'\n",
        "zip_ref = zipfile.ZipFile(local_zip, 'r')\n",
        "zip_ref.extractall('/tmp')\n",
        "zip_ref.close()"
      ],
      "execution_count": null,
      "outputs": []
    },
    {
      "cell_type": "code",
      "metadata": {
        "id": "DRmNEo5vi63D",
        "outputId": "030e9824-e5e1-4d48-89dd-84a12c44bc7c",
        "colab": {
          "base_uri": "https://localhost:8080/",
          "height": 204
        }
      },
      "source": [
        "df = pd.read_csv('/tmp/data/gojek_review_sentiment.csv')\n",
        "df.head()"
      ],
      "execution_count": null,
      "outputs": [
        {
          "output_type": "execute_result",
          "data": {
            "text/html": [
              "<div>\n",
              "<style scoped>\n",
              "    .dataframe tbody tr th:only-of-type {\n",
              "        vertical-align: middle;\n",
              "    }\n",
              "\n",
              "    .dataframe tbody tr th {\n",
              "        vertical-align: top;\n",
              "    }\n",
              "\n",
              "    .dataframe thead th {\n",
              "        text-align: right;\n",
              "    }\n",
              "</style>\n",
              "<table border=\"1\" class=\"dataframe\">\n",
              "  <thead>\n",
              "    <tr style=\"text-align: right;\">\n",
              "      <th></th>\n",
              "      <th>review</th>\n",
              "      <th>rate</th>\n",
              "    </tr>\n",
              "  </thead>\n",
              "  <tbody>\n",
              "    <tr>\n",
              "      <th>0</th>\n",
              "      <td>Apa aplikasi yang bagus untuk dengan mudah per...</td>\n",
              "      <td>positive</td>\n",
              "    </tr>\n",
              "    <tr>\n",
              "      <th>1</th>\n",
              "      <td>Aplikasi ini banyak membantu saya. Sekarang sa...</td>\n",
              "      <td>positive</td>\n",
              "    </tr>\n",
              "    <tr>\n",
              "      <th>2</th>\n",
              "      <td>Mengerikan. Antarmukanya sangat membingungkan....</td>\n",
              "      <td>negative</td>\n",
              "    </tr>\n",
              "    <tr>\n",
              "      <th>3</th>\n",
              "      <td>Aplikasi yang cukup mengesankan. Butuh waktu l...</td>\n",
              "      <td>positive</td>\n",
              "    </tr>\n",
              "    <tr>\n",
              "      <th>4</th>\n",
              "      <td>Aplikasi ini sebenarnya bagus dan sangat memba...</td>\n",
              "      <td>positive</td>\n",
              "    </tr>\n",
              "  </tbody>\n",
              "</table>\n",
              "</div>"
            ],
            "text/plain": [
              "                                              review      rate\n",
              "0  Apa aplikasi yang bagus untuk dengan mudah per...  positive\n",
              "1  Aplikasi ini banyak membantu saya. Sekarang sa...  positive\n",
              "2  Mengerikan. Antarmukanya sangat membingungkan....  negative\n",
              "3  Aplikasi yang cukup mengesankan. Butuh waktu l...  positive\n",
              "4  Aplikasi ini sebenarnya bagus dan sangat memba...  positive"
            ]
          },
          "metadata": {
            "tags": []
          },
          "execution_count": 4
        }
      ]
    },
    {
      "cell_type": "code",
      "metadata": {
        "id": "fbflP-l4i_Sj",
        "outputId": "1fa3b378-1941-4cbb-c15e-53adf8bc7ee3",
        "colab": {
          "base_uri": "https://localhost:8080/",
          "height": 34
        }
      },
      "source": [
        "df.shape"
      ],
      "execution_count": null,
      "outputs": [
        {
          "output_type": "execute_result",
          "data": {
            "text/plain": [
              "(1782, 2)"
            ]
          },
          "metadata": {
            "tags": []
          },
          "execution_count": 5
        }
      ]
    },
    {
      "cell_type": "code",
      "metadata": {
        "id": "tLBDlH9u3_wk",
        "outputId": "bb538876-a841-443f-db91-0d762ebc1559",
        "colab": {
          "base_uri": "https://localhost:8080/",
          "height": 69
        }
      },
      "source": [
        "df['review'][0]"
      ],
      "execution_count": null,
      "outputs": [
        {
          "output_type": "execute_result",
          "data": {
            "application/vnd.google.colaboratory.intrinsic+json": {
              "type": "string"
            },
            "text/plain": [
              "'Apa aplikasi yang bagus untuk dengan mudah pergi ke mana saja jika kita tidak memiliki sepeda motor atau ingin pergi dalam perjalanan kelompok, kita dapat menggunakan gocar dan perjalanan yang menyenangkan adalah suatu keharusan, jadi saya pikir gojek memberi kita banyak situasi nyaman selama mengendarai. Dan saya suka gofood! Saya pikir itu sudah cukup.'"
            ]
          },
          "metadata": {
            "tags": []
          },
          "execution_count": 6
        }
      ]
    },
    {
      "cell_type": "markdown",
      "metadata": {
        "id": "TP97tcCKPB7r"
      },
      "source": [
        "# Data Cleaning"
      ]
    },
    {
      "cell_type": "code",
      "metadata": {
        "id": "SlNffzJ-OSOE"
      },
      "source": [
        "#copy dataset for evaluate\n",
        "df_before = df.copy()\n",
        "\n",
        "def review_cleaning(text):\n",
        "    \n",
        "    # delete lowercase and newline\n",
        "    text = text.lower()\n",
        "    text = re.sub(r'\\n', '', text)\n",
        "    \n",
        "    # delete punctuation\n",
        "    text = re.sub('[^a-z0-9 ]', ' ', text)\n",
        "    \n",
        "    tokenizer = text.split()\n",
        "    \n",
        "    return ' '.join([text for text in tokenizer])"
      ],
      "execution_count": null,
      "outputs": []
    },
    {
      "cell_type": "code",
      "metadata": {
        "id": "VhXoStELOSQr"
      },
      "source": [
        "df['review'] = df['review'].apply(review_cleaning)"
      ],
      "execution_count": null,
      "outputs": []
    },
    {
      "cell_type": "code",
      "metadata": {
        "id": "cXd9ZiCfPkBw",
        "outputId": "4505869a-5ea4-43c8-dcc9-3a0750c2d376",
        "colab": {
          "base_uri": "https://localhost:8080/",
          "height": 34
        }
      },
      "source": [
        "test = \"Aku seeeeneeeeeng bangggeeeettt make Gofood. Jadi simple semuanyaaaa. beneeeraaaan tidak usah repot keluar rumah\"\n",
        "print(re.sub(r'(\\w)\\1{2,}', r'\\1', test))"
      ],
      "execution_count": null,
      "outputs": [
        {
          "output_type": "stream",
          "text": [
            "Aku seneng banget make Gofood. Jadi simple semuanya. beneran tidak usah repot keluar rumah\n"
          ],
          "name": "stdout"
        }
      ]
    },
    {
      "cell_type": "code",
      "metadata": {
        "id": "2pT05UHWPkQo"
      },
      "source": [
        "def delete_repeated_char(text):\n",
        "    \n",
        "    text = re.sub(r'(\\w)\\1{,}', r'\\1', text)\n",
        "    \n",
        "    return text"
      ],
      "execution_count": null,
      "outputs": []
    },
    {
      "cell_type": "code",
      "metadata": {
        "id": "lonZiyqgWutV"
      },
      "source": [
        "df['review'] = df['review'].apply(delete_repeated_char)"
      ],
      "execution_count": null,
      "outputs": []
    },
    {
      "cell_type": "code",
      "metadata": {
        "id": "OVjRdynzRbZz",
        "outputId": "e7a7cc7e-3286-46df-97fd-6861d632ce9b",
        "colab": {
          "base_uri": "https://localhost:8080/",
          "height": 102
        }
      },
      "source": [
        "print('Before: ', df_before.loc[674, 'review'])\n",
        "print('After: ', df.loc[674, 'review'])\n",
        "\n",
        "print('\\nBefore: ', df_before.loc[1441, 'review'])\n",
        "print('After: ', df.loc[1441, 'review'])"
      ],
      "execution_count": null,
      "outputs": [
        {
          "output_type": "stream",
          "text": [
            "Before:  update jadi banyak masalah .. server sibuk .. top up susah .. ga banyak pilihan .. soooo baaad\n",
            "After:  update jadi banyak masalah server sibuk top up susah ga banyak pilihan so bad\n",
            "\n",
            "Before:  Berguna! tidak hanya untuk transportasi tetapi juga untuk pembayaran, restoran dll. Loveeeee it ..\n",
            "After:  berguna tidak hanya untuk transportasi tetapi juga untuk pembayaran restoran dl love it\n"
          ],
          "name": "stdout"
        }
      ]
    },
    {
      "cell_type": "markdown",
      "metadata": {
        "id": "XqsMTrOYX_KV"
      },
      "source": [
        "# Data Preparation"
      ]
    },
    {
      "cell_type": "code",
      "metadata": {
        "id": "4gBbSuq4kBCp",
        "outputId": "50748992-63e7-4a6a-dd6c-91d4594ac8e2",
        "colab": {
          "base_uri": "https://localhost:8080/",
          "height": 68
        }
      },
      "source": [
        "df['rate'] = df['rate'].replace({'positive': 1})\n",
        "df['rate'] = df['rate'].replace({'negative': 0})\n",
        "df['rate'].value_counts()"
      ],
      "execution_count": null,
      "outputs": [
        {
          "output_type": "execute_result",
          "data": {
            "text/plain": [
              "0    1061\n",
              "1     721\n",
              "Name: rate, dtype: int64"
            ]
          },
          "metadata": {
            "tags": []
          },
          "execution_count": 13
        }
      ]
    },
    {
      "cell_type": "code",
      "metadata": {
        "id": "LOd3xPL2jCcZ",
        "outputId": "13ecdfaf-aa11-486f-8ea6-cab61b517add",
        "colab": {
          "base_uri": "https://localhost:8080/",
          "height": 34
        }
      },
      "source": [
        "X = df['review'].values\n",
        "y = df['rate'].values\n",
        "\n",
        "X_train, X_test, y_train, y_test = train_test_split(X, y, test_size=0.2, random_state=42)\n",
        "X_train.shape, X_test.shape, y_train.shape, y_test.shape"
      ],
      "execution_count": null,
      "outputs": [
        {
          "output_type": "execute_result",
          "data": {
            "text/plain": [
              "((1425,), (357,), (1425,), (357,))"
            ]
          },
          "metadata": {
            "tags": []
          },
          "execution_count": 14
        }
      ]
    },
    {
      "cell_type": "code",
      "metadata": {
        "id": "ZuipWZRA5BNk"
      },
      "source": [
        "X_train = np.array(X_train)\n",
        "X_test = np.array(X_test)\n",
        "y_train = np.array(y_train)\n",
        "y_test = np.array(y_test)"
      ],
      "execution_count": null,
      "outputs": []
    },
    {
      "cell_type": "code",
      "metadata": {
        "id": "wUeMrgs-mn_N"
      },
      "source": [
        "vocab_size = 1000\n",
        "embedding_dim = 16\n",
        "max_length = 120\n",
        "trunc_type='post'\n",
        "padding_type='post'\n",
        "oov_tok = \"~\"\n",
        "\n",
        "tokenizer = Tokenizer(num_words=vocab_size, oov_token=oov_tok)\n",
        "tokenizer.fit_on_texts(X_train)\n",
        "tokenizer.fit_on_texts(X_test)\n",
        "\n",
        "word_index = tokenizer.word_index\n",
        "\n",
        "training_sequences = tokenizer.texts_to_sequences(X_train)\n",
        "training_padded = pad_sequences(training_sequences, maxlen=max_length, padding=padding_type, truncating=trunc_type)\n",
        "\n",
        "testing_sequences = tokenizer.texts_to_sequences(X_test)\n",
        "testing_padded = pad_sequences(testing_sequences, maxlen=max_length, padding=padding_type, truncating=trunc_type)\n"
      ],
      "execution_count": null,
      "outputs": []
    },
    {
      "cell_type": "markdown",
      "metadata": {
        "id": "h8_so4T_zICR"
      },
      "source": [
        "# Model LSTM Bidirectional"
      ]
    },
    {
      "cell_type": "markdown",
      "metadata": {
        "id": "UDS6qx8yzRB1"
      },
      "source": [
        "Cara kerja dari LSTM Bidirectional adalah menjalankan input dua arah kedalam dua cara, satu dari masa lalu ke masa depan dan satu dari masa depan ke masa lalu dan apa yang berbeda dari pendekatan ini adalah berbeda dengan Unidirectional LSTM yang berjalan mundur saat menyimpan informasi dari masa depan dan menggunakan dua *hidden state* digabungkan pada suatu pada suatu titik waktu untuk menyimpan informasi dari masa lalu dan masa depan.\n",
        "\n",
        "Point pentingnya adalah Bidirectional LSTM menunjukkan hasil yang sangat baik karena mereka dapat memahami konteks dengan lebih baik, saya akan mencoba menjelaskan melalui contoh.\n",
        "\n",
        "Katakanlah kita mencoba untuk memprediksi kata berikutnya dalam sebuah kalimat, pada tingkat tinggi apa yang LSTM searah akan lihat adalah\n",
        "\n",
        "**Anak-anak pergi ke ....**\n",
        "\n",
        "Dan akan mencoba memprediksi kata berikutnya hanya dengan konteks ini, dengan Bidirectional LSTM akan dapat melihat informasi lebih jauh kedepan misalnya\n",
        "\n",
        "Forward LSTM:\n",
        "\n",
        "**Anak-anak pergi ke ...**\n",
        "\n",
        "Backward LSTM:\n",
        "\n",
        "**... dan kemudian mereka keluar dari kolam renang**\n",
        "\n",
        "Dan cara ini juga bisa diterapkan melalui klasifikasi sentiment pada data tidak terstruktur seperti text. dan *it works* Karena pada dasarnya Gagasan di balik bidirectional adalah untuk menangkap informasi input sekitarnya. alhasil belajar lebih cepat daripada pendekatan satu arah."
      ]
    },
    {
      "cell_type": "markdown",
      "metadata": {
        "id": "bHvFBtvhzREe"
      },
      "source": [
        "![alt text](https://miro.medium.com/max/609/1*c4yHwRQESwG5e0WsmW-zBw.gif)"
      ]
    },
    {
      "cell_type": "code",
      "metadata": {
        "id": "5-LLSSg0nxvP"
      },
      "source": [
        "model = tf.keras.Sequential([\n",
        "    tf.keras.layers.Embedding(vocab_size, embedding_dim, input_length=max_length),\n",
        "    tf.keras.layers.Bidirectional(tf.keras.layers.LSTM(100)),\n",
        "    tf.keras.layers.Dropout(0.2),\n",
        "    tf.keras.layers.Dense(512, activation='relu'),\n",
        "    tf.keras.layers.Dropout(0.5),\n",
        "    tf.keras.layers.Dense(1, activation='sigmoid')\n",
        "])"
      ],
      "execution_count": null,
      "outputs": []
    },
    {
      "cell_type": "code",
      "metadata": {
        "id": "ysUCD3-bn602",
        "outputId": "023b1956-1c72-40e9-e382-1106b0afdc8e",
        "colab": {
          "base_uri": "https://localhost:8080/",
          "height": 357
        }
      },
      "source": [
        "callback = tf.keras.callbacks.EarlyStopping(monitor=\"val_accuracy\", patience=10)\n",
        "\n",
        "model.compile(loss='binary_crossentropy',optimizer='adam',metrics=['accuracy'])\n",
        "model.summary()"
      ],
      "execution_count": null,
      "outputs": [
        {
          "output_type": "stream",
          "text": [
            "Model: \"sequential\"\n",
            "_________________________________________________________________\n",
            "Layer (type)                 Output Shape              Param #   \n",
            "=================================================================\n",
            "embedding (Embedding)        (None, 120, 16)           16000     \n",
            "_________________________________________________________________\n",
            "bidirectional (Bidirectional (None, 200)               93600     \n",
            "_________________________________________________________________\n",
            "dropout (Dropout)            (None, 200)               0         \n",
            "_________________________________________________________________\n",
            "dense (Dense)                (None, 512)               102912    \n",
            "_________________________________________________________________\n",
            "dropout_1 (Dropout)          (None, 512)               0         \n",
            "_________________________________________________________________\n",
            "dense_1 (Dense)              (None, 1)                 513       \n",
            "=================================================================\n",
            "Total params: 213,025\n",
            "Trainable params: 213,025\n",
            "Non-trainable params: 0\n",
            "_________________________________________________________________\n"
          ],
          "name": "stdout"
        }
      ]
    },
    {
      "cell_type": "code",
      "metadata": {
        "id": "kn2G2uZEn9sG",
        "outputId": "f7d154f9-f1c8-466a-b08a-4b7159a7b06b",
        "colab": {
          "base_uri": "https://localhost:8080/",
          "height": 493
        }
      },
      "source": [
        "num_epochs = 100\n",
        "\n",
        "history = model.fit(training_padded, y_train, epochs=num_epochs, \n",
        "                    validation_data=(testing_padded, y_test), verbose=2, callbacks=[callback])"
      ],
      "execution_count": null,
      "outputs": [
        {
          "output_type": "stream",
          "text": [
            "Epoch 1/100\n",
            "45/45 - 7s - loss: 0.6246 - accuracy: 0.6470 - val_loss: 0.4715 - val_accuracy: 0.7815\n",
            "Epoch 2/100\n",
            "45/45 - 6s - loss: 0.3394 - accuracy: 0.8695 - val_loss: 0.2626 - val_accuracy: 0.9132\n",
            "Epoch 3/100\n",
            "45/45 - 6s - loss: 0.2175 - accuracy: 0.9270 - val_loss: 0.2281 - val_accuracy: 0.9216\n",
            "Epoch 4/100\n",
            "45/45 - 6s - loss: 0.1513 - accuracy: 0.9488 - val_loss: 0.2250 - val_accuracy: 0.9300\n",
            "Epoch 5/100\n",
            "45/45 - 6s - loss: 0.1107 - accuracy: 0.9663 - val_loss: 0.2800 - val_accuracy: 0.9216\n",
            "Epoch 6/100\n",
            "45/45 - 6s - loss: 0.0885 - accuracy: 0.9684 - val_loss: 0.3040 - val_accuracy: 0.9076\n",
            "Epoch 7/100\n",
            "45/45 - 6s - loss: 0.0612 - accuracy: 0.9782 - val_loss: 0.3264 - val_accuracy: 0.9216\n",
            "Epoch 8/100\n",
            "45/45 - 6s - loss: 0.0411 - accuracy: 0.9867 - val_loss: 0.4322 - val_accuracy: 0.9104\n",
            "Epoch 9/100\n",
            "45/45 - 6s - loss: 0.0201 - accuracy: 0.9937 - val_loss: 0.4511 - val_accuracy: 0.9076\n",
            "Epoch 10/100\n",
            "45/45 - 6s - loss: 0.0133 - accuracy: 0.9965 - val_loss: 0.5172 - val_accuracy: 0.9160\n",
            "Epoch 11/100\n",
            "45/45 - 6s - loss: 0.0175 - accuracy: 0.9958 - val_loss: 0.5431 - val_accuracy: 0.9048\n",
            "Epoch 12/100\n",
            "45/45 - 6s - loss: 0.1495 - accuracy: 0.9481 - val_loss: 0.3103 - val_accuracy: 0.8768\n",
            "Epoch 13/100\n",
            "45/45 - 6s - loss: 0.0556 - accuracy: 0.9818 - val_loss: 0.4187 - val_accuracy: 0.8992\n",
            "Epoch 14/100\n",
            "45/45 - 6s - loss: 0.0122 - accuracy: 0.9965 - val_loss: 0.5568 - val_accuracy: 0.8992\n"
          ],
          "name": "stdout"
        }
      ]
    },
    {
      "cell_type": "markdown",
      "metadata": {
        "id": "Tk5E7zG6qBEB"
      },
      "source": [
        "# Plot Accuracy"
      ]
    },
    {
      "cell_type": "code",
      "metadata": {
        "id": "w17BEqjnoht8"
      },
      "source": [
        "import matplotlib.pyplot as plt\n",
        "\n",
        "\n",
        "def plot_graphs(history, string):\n",
        "  plt.plot(history.history[string])\n",
        "  plt.plot(history.history['val_'+string])\n",
        "  plt.xlabel(\"Epochs\")\n",
        "  plt.ylabel(string)\n",
        "  plt.legend([string, 'val_'+string])\n",
        "  plt.show()"
      ],
      "execution_count": null,
      "outputs": []
    },
    {
      "cell_type": "code",
      "metadata": {
        "id": "umAuD3Snp3qa",
        "outputId": "00582428-088a-4002-a030-e3985219adf6",
        "colab": {
          "base_uri": "https://localhost:8080/",
          "height": 279
        }
      },
      "source": [
        "plot_graphs(history, 'accuracy')"
      ],
      "execution_count": null,
      "outputs": [
        {
          "output_type": "display_data",
          "data": {
            "image/png": "[encoded data removed]",
            "text/plain": [
              "<Figure size 432x288 with 1 Axes>"
            ]
          },
          "metadata": {
            "tags": [],
            "needs_background": "light"
          }
        }
      ]
    },
    {
      "cell_type": "code",
      "metadata": {
        "id": "O2-PN6ctp6eg",
        "outputId": "7d0b9e73-fef8-44c0-f15e-640014e6c3a8",
        "colab": {
          "base_uri": "https://localhost:8080/",
          "height": 279
        }
      },
      "source": [
        "plot_graphs(history, 'loss')"
      ],
      "execution_count": null,
      "outputs": [
        {
          "output_type": "display_data",
          "data": {
            "image/png": "[encoded data removed]",
            "text/plain": [
              "<Figure size 432x288 with 1 Axes>"
            ]
          },
          "metadata": {
            "tags": [],
            "needs_background": "light"
          }
        }
      ]
    },
    {
      "cell_type": "markdown",
      "metadata": {
        "id": "8Qhsqt-uqG7I"
      },
      "source": [
        "# Testing Model"
      ]
    },
    {
      "cell_type": "code",
      "metadata": {
        "id": "0u4SwDtJqk2w"
      },
      "source": [
        "def get_word(x):\n",
        "  x = tokenizer.texts_to_sequences(x)\n",
        "  x = pad_sequences(x, maxlen=50, padding=\"post\")\n",
        "  return x"
      ],
      "execution_count": null,
      "outputs": []
    },
    {
      "cell_type": "code",
      "metadata": {
        "id": "FAwp7aeS6K_6"
      },
      "source": [
        "negative = ['aplikasi ini tidak berguna, scam, penipuan. Saya merasa dirugikan dengan aplikasi ini']\n",
        "positive = ['aplikasi ini sangat membantu hidup saya sehari-hari lewat layanan yang mudah digunakand seperti Gofood']\n",
        "\n",
        "n_sentiment = get_word(negative)\n",
        "p_sentiment = get_word(positive)"
      ],
      "execution_count": null,
      "outputs": []
    },
    {
      "cell_type": "code",
      "metadata": {
        "id": "8-pJB8ES7D2N",
        "outputId": "4e8be527-24e8-420f-9214-78e91f821835",
        "colab": {
          "base_uri": "https://localhost:8080/",
          "height": 68
        }
      },
      "source": [
        "pred = model.predict_classes(n_sentiment)\n",
        "print(negative,'\\n', \"Kalimat ini bermakna negatif, masuk kedalam kelas: \\n\", pred )"
      ],
      "execution_count": null,
      "outputs": [
        {
          "output_type": "stream",
          "text": [
            "['aplikasi ini tidak berguna, scam, penipuan. Saya merasa dirugikan dengan aplikasi ini'] \n",
            " Kalimat ini bermakna negatif, masuk kedalam kelas: \n",
            " [[0]]\n"
          ],
          "name": "stdout"
        }
      ]
    },
    {
      "cell_type": "code",
      "metadata": {
        "id": "UJsw2lOnKtJ2",
        "outputId": "8b943187-e90b-49a5-fc7c-522dca36b563",
        "colab": {
          "base_uri": "https://localhost:8080/",
          "height": 68
        }
      },
      "source": [
        "pred = model.predict_classes(p_sentiment)\n",
        "print(positive,'\\n', \"Kalimat ini bermakna negatif, masuk kedalam kelas: \\n\", pred )"
      ],
      "execution_count": null,
      "outputs": [
        {
          "output_type": "stream",
          "text": [
            "['aplikasi ini sangat membantu hidup saya sehari-hari lewat layanan yang mudah digunakand seperti Gofood'] \n",
            " Kalimat ini bermakna negatif, masuk kedalam kelas: \n",
            " [[1]]\n"
          ],
          "name": "stdout"
        }
      ]
    },
    {
      "cell_type": "markdown",
      "metadata": {
        "id": "NNHbFzV_4BtP"
      },
      "source": [
        "# Save Model"
      ]
    },
    {
      "cell_type": "code",
      "metadata": {
        "id": "K-gqEuadC47U",
        "outputId": "c3006df4-7b33-41d0-f346-d1a9666bbc66",
        "colab": {
          "base_uri": "https://localhost:8080/",
          "height": 122
        }
      },
      "source": [
        "from google.colab import drive\n",
        "drive.mount('/content/gdrive')"
      ],
      "execution_count": null,
      "outputs": [
        {
          "output_type": "stream",
          "text": [
            "Go to this URL in a browser: https://accounts.google.com/o/oauth2/auth?client_id=947318989803-6bn6qk8qdgf4n4g3pfee6491hc0brc4i.apps.googleusercontent.com&redirect_uri=urn%3aietf%3awg%3aoauth%3a2.0%3aoob&scope=email%20https%3a%2f%2fwww.googleapis.com%2fauth%2fdocs.test%20https%3a%2f%2fwww.googleapis.com%2fauth%2fdrive%20https%3a%2f%2fwww.googleapis.com%2fauth%2fdrive.photos.readonly%20https%3a%2f%2fwww.googleapis.com%2fauth%2fpeopleapi.readonly&response_type=code\n",
            "\n",
            "Enter your authorization code:\n",
            "··········\n",
            "Mounted at /content/gdrive\n"
          ],
          "name": "stdout"
        }
      ]
    },
    {
      "cell_type": "code",
      "metadata": {
        "id": "niKFiRQe3_N3",
        "outputId": "44ba8ce0-5817-42a0-8e8a-deed878b2e40",
        "colab": {
          "base_uri": "https://localhost:8080/",
          "height": 34
        }
      },
      "source": [
        "model.save('/content/gdrive/My Drive/sentiment_app')"
      ],
      "execution_count": null,
      "outputs": [
        {
          "output_type": "stream",
          "text": [
            "INFO:tensorflow:Assets written to: /content/gdrive/My Drive/sentiment_app/assets\n"
          ],
          "name": "stdout"
        }
      ]
    },
    {
      "cell_type": "markdown",
      "metadata": {
        "id": "hcy3elIi222j"
      },
      "source": [
        "## Referensi \n",
        "\n",
        "- Bi-LSTM, https://medium.com/@raghavaggarwal0089/bi-lstm-bc3d68da8bd0\n",
        "- Dataset, https://github.com/WiraDKP\n",
        "- Konsep Bi-LSTM, https://www.youtube.com/watch?v=Bp-_DatyUCY"
      ]
    }
  ]
}